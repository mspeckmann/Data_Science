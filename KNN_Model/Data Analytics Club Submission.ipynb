{
 "cells": [
  {
   "cell_type": "markdown",
   "metadata": {},
   "source": [
    "# Data Analytics Club Submission\n",
    "### Melinda Gomez Tellez"
   ]
  },
  {
   "cell_type": "code",
   "execution_count": 50,
   "metadata": {},
   "outputs": [
    {
     "data": {
      "text/html": [
       "<style>.container { width:100% !important; }</style>"
      ],
      "text/plain": [
       "<IPython.core.display.HTML object>"
      ]
     },
     "metadata": {},
     "output_type": "display_data"
    }
   ],
   "source": [
    "import pandas as pd\n",
    "import numpy as np\n",
    "pd.set_option('display.max_columns', None,'display.max_columns', None)\n",
    "\n",
    "from sklearn import preprocessing\n",
    "from sklearn.neighbors import KNeighborsClassifier\n",
    "from sklearn.model_selection import train_test_split\n",
    "from sklearn.metrics import confusion_matrix\n",
    "from sklearn.model_selection import GridSearchCV\n",
    "from sklearn.tree import DecisionTreeClassifier \n",
    "from sklearn.metrics import classification_report\n",
    "\n",
    "import matplotlib.pyplot as plt\n",
    "import seaborn as sns\n",
    "from statsmodels.graphics.mosaicplot import mosaic\n",
    "\n",
    "from sklearn import metrics\n",
    "from sklearn.metrics import accuracy_score, f1_score, precision_score, recall_score, classification_report, confusion_matrix\n",
    "\n",
    "import pickle\n",
    "from sklearn.externals import joblib\n",
    "\n",
    "#full screen for notebook\n",
    "from IPython.core.display import display, HTML\n",
    "display(HTML(\"<style>.container { width:100% !important; }</style>\"))"
   ]
  },
  {
   "cell_type": "code",
   "execution_count": 2,
   "metadata": {},
   "outputs": [],
   "source": [
    "df_train = pd.read_csv('train.csv')\n",
    "df_test = pd.read_csv('test.csv')"
   ]
  },
  {
   "cell_type": "code",
   "execution_count": 3,
   "metadata": {},
   "outputs": [
    {
     "data": {
      "text/html": [
       "<div>\n",
       "<style scoped>\n",
       "    .dataframe tbody tr th:only-of-type {\n",
       "        vertical-align: middle;\n",
       "    }\n",
       "\n",
       "    .dataframe tbody tr th {\n",
       "        vertical-align: top;\n",
       "    }\n",
       "\n",
       "    .dataframe thead th {\n",
       "        text-align: right;\n",
       "    }\n",
       "</style>\n",
       "<table border=\"1\" class=\"dataframe\">\n",
       "  <thead>\n",
       "    <tr style=\"text-align: right;\">\n",
       "      <th></th>\n",
       "      <th>battery_power</th>\n",
       "      <th>blue</th>\n",
       "      <th>clock_speed</th>\n",
       "      <th>dual_sim</th>\n",
       "      <th>fc</th>\n",
       "      <th>four_g</th>\n",
       "      <th>int_memory</th>\n",
       "      <th>m_dep</th>\n",
       "      <th>mobile_wt</th>\n",
       "      <th>n_cores</th>\n",
       "      <th>pc</th>\n",
       "      <th>px_height</th>\n",
       "      <th>px_width</th>\n",
       "      <th>ram</th>\n",
       "      <th>sc_h</th>\n",
       "      <th>sc_w</th>\n",
       "      <th>talk_time</th>\n",
       "      <th>three_g</th>\n",
       "      <th>touch_screen</th>\n",
       "      <th>wifi</th>\n",
       "      <th>price_range</th>\n",
       "    </tr>\n",
       "  </thead>\n",
       "  <tbody>\n",
       "    <tr>\n",
       "      <th>0</th>\n",
       "      <td>842</td>\n",
       "      <td>0</td>\n",
       "      <td>2.2</td>\n",
       "      <td>0</td>\n",
       "      <td>1</td>\n",
       "      <td>0</td>\n",
       "      <td>7</td>\n",
       "      <td>0.6</td>\n",
       "      <td>188</td>\n",
       "      <td>2</td>\n",
       "      <td>2</td>\n",
       "      <td>20</td>\n",
       "      <td>756</td>\n",
       "      <td>2549</td>\n",
       "      <td>9</td>\n",
       "      <td>7</td>\n",
       "      <td>19</td>\n",
       "      <td>0</td>\n",
       "      <td>0</td>\n",
       "      <td>1</td>\n",
       "      <td>1</td>\n",
       "    </tr>\n",
       "    <tr>\n",
       "      <th>1</th>\n",
       "      <td>1021</td>\n",
       "      <td>1</td>\n",
       "      <td>0.5</td>\n",
       "      <td>1</td>\n",
       "      <td>0</td>\n",
       "      <td>1</td>\n",
       "      <td>53</td>\n",
       "      <td>0.7</td>\n",
       "      <td>136</td>\n",
       "      <td>3</td>\n",
       "      <td>6</td>\n",
       "      <td>905</td>\n",
       "      <td>1988</td>\n",
       "      <td>2631</td>\n",
       "      <td>17</td>\n",
       "      <td>3</td>\n",
       "      <td>7</td>\n",
       "      <td>1</td>\n",
       "      <td>1</td>\n",
       "      <td>0</td>\n",
       "      <td>2</td>\n",
       "    </tr>\n",
       "    <tr>\n",
       "      <th>2</th>\n",
       "      <td>563</td>\n",
       "      <td>1</td>\n",
       "      <td>0.5</td>\n",
       "      <td>1</td>\n",
       "      <td>2</td>\n",
       "      <td>1</td>\n",
       "      <td>41</td>\n",
       "      <td>0.9</td>\n",
       "      <td>145</td>\n",
       "      <td>5</td>\n",
       "      <td>6</td>\n",
       "      <td>1263</td>\n",
       "      <td>1716</td>\n",
       "      <td>2603</td>\n",
       "      <td>11</td>\n",
       "      <td>2</td>\n",
       "      <td>9</td>\n",
       "      <td>1</td>\n",
       "      <td>1</td>\n",
       "      <td>0</td>\n",
       "      <td>2</td>\n",
       "    </tr>\n",
       "    <tr>\n",
       "      <th>3</th>\n",
       "      <td>615</td>\n",
       "      <td>1</td>\n",
       "      <td>2.5</td>\n",
       "      <td>0</td>\n",
       "      <td>0</td>\n",
       "      <td>0</td>\n",
       "      <td>10</td>\n",
       "      <td>0.8</td>\n",
       "      <td>131</td>\n",
       "      <td>6</td>\n",
       "      <td>9</td>\n",
       "      <td>1216</td>\n",
       "      <td>1786</td>\n",
       "      <td>2769</td>\n",
       "      <td>16</td>\n",
       "      <td>8</td>\n",
       "      <td>11</td>\n",
       "      <td>1</td>\n",
       "      <td>0</td>\n",
       "      <td>0</td>\n",
       "      <td>2</td>\n",
       "    </tr>\n",
       "    <tr>\n",
       "      <th>4</th>\n",
       "      <td>1821</td>\n",
       "      <td>1</td>\n",
       "      <td>1.2</td>\n",
       "      <td>0</td>\n",
       "      <td>13</td>\n",
       "      <td>1</td>\n",
       "      <td>44</td>\n",
       "      <td>0.6</td>\n",
       "      <td>141</td>\n",
       "      <td>2</td>\n",
       "      <td>14</td>\n",
       "      <td>1208</td>\n",
       "      <td>1212</td>\n",
       "      <td>1411</td>\n",
       "      <td>8</td>\n",
       "      <td>2</td>\n",
       "      <td>15</td>\n",
       "      <td>1</td>\n",
       "      <td>1</td>\n",
       "      <td>0</td>\n",
       "      <td>1</td>\n",
       "    </tr>\n",
       "  </tbody>\n",
       "</table>\n",
       "</div>"
      ],
      "text/plain": [
       "   battery_power  blue  clock_speed  dual_sim  fc  four_g  int_memory  m_dep  \\\n",
       "0            842     0          2.2         0   1       0           7    0.6   \n",
       "1           1021     1          0.5         1   0       1          53    0.7   \n",
       "2            563     1          0.5         1   2       1          41    0.9   \n",
       "3            615     1          2.5         0   0       0          10    0.8   \n",
       "4           1821     1          1.2         0  13       1          44    0.6   \n",
       "\n",
       "   mobile_wt  n_cores  pc  px_height  px_width   ram  sc_h  sc_w  talk_time  \\\n",
       "0        188        2   2         20       756  2549     9     7         19   \n",
       "1        136        3   6        905      1988  2631    17     3          7   \n",
       "2        145        5   6       1263      1716  2603    11     2          9   \n",
       "3        131        6   9       1216      1786  2769    16     8         11   \n",
       "4        141        2  14       1208      1212  1411     8     2         15   \n",
       "\n",
       "   three_g  touch_screen  wifi  price_range  \n",
       "0        0             0     1            1  \n",
       "1        1             1     0            2  \n",
       "2        1             1     0            2  \n",
       "3        1             0     0            2  \n",
       "4        1             1     0            1  "
      ]
     },
     "execution_count": 3,
     "metadata": {},
     "output_type": "execute_result"
    }
   ],
   "source": [
    "df_train.head()"
   ]
  },
  {
   "cell_type": "code",
   "execution_count": 4,
   "metadata": {},
   "outputs": [
    {
     "data": {
      "text/plain": [
       "False"
      ]
     },
     "execution_count": 4,
     "metadata": {},
     "output_type": "execute_result"
    }
   ],
   "source": [
    "df_train.isnull().values.any()"
   ]
  },
  {
   "cell_type": "code",
   "execution_count": 5,
   "metadata": {},
   "outputs": [
    {
     "data": {
      "text/plain": [
       "False"
      ]
     },
     "execution_count": 5,
     "metadata": {},
     "output_type": "execute_result"
    }
   ],
   "source": [
    "df_test.isnull().values.any()"
   ]
  },
  {
   "cell_type": "markdown",
   "metadata": {},
   "source": [
    "### A. KNN - Baseline Performance, K = 3"
   ]
  },
  {
   "cell_type": "markdown",
   "metadata": {},
   "source": [
    "Without even looking at the features, my first thought is to use KNN to set a basleine. This is a multi-class case and KNN is easy to use and understand by calculating distances. "
   ]
  },
  {
   "cell_type": "markdown",
   "metadata": {},
   "source": [
    "**1. Assess how balanced/unbalanced the training dataset is**"
   ]
  },
  {
   "cell_type": "code",
   "execution_count": 6,
   "metadata": {},
   "outputs": [
    {
     "data": {
      "text/plain": [
       "3    500\n",
       "2    500\n",
       "1    500\n",
       "0    500\n",
       "Name: price_range, dtype: int64"
      ]
     },
     "execution_count": 6,
     "metadata": {},
     "output_type": "execute_result"
    }
   ],
   "source": [
    "df_train['price_range'].value_counts()"
   ]
  },
  {
   "cell_type": "markdown",
   "metadata": {},
   "source": [
    "**2. Split training model into train/test to test performance and then run and test model**"
   ]
  },
  {
   "cell_type": "code",
   "execution_count": 7,
   "metadata": {},
   "outputs": [
    {
     "data": {
      "text/plain": [
       "array([[169,   6,   0,   0],\n",
       "       [ 12, 136,  11,   0],\n",
       "       [  0,   7, 154,  10],\n",
       "       [  0,   0,  13, 142]])"
      ]
     },
     "execution_count": 7,
     "metadata": {},
     "output_type": "execute_result"
    }
   ],
   "source": [
    "X = df_train[['battery_power','blue','clock_speed','dual_sim','fc','four_g','int_memory','m_dep','mobile_wt','n_cores','pc','px_height','px_width','ram','sc_h','sc_w','talk_time','three_g','touch_screen','wifi']]\n",
    "y = df_train['price_range']\n",
    "seed = 7\n",
    "test_size = 0.33\n",
    "X_train, X_test, y_train, y_test = train_test_split(X, y, test_size=test_size, random_state=seed)\n",
    "\n",
    "knn = KNeighborsClassifier(n_neighbors=3, algorithm='auto', metric='euclidean')\n",
    "knn.fit(X_train,y_train)\n",
    "\n",
    "y_pred = knn.predict(X_test)\n",
    "\n",
    "confusion_matrix(y_test, y_pred)"
   ]
  },
  {
   "cell_type": "code",
   "execution_count": 8,
   "metadata": {},
   "outputs": [
    {
     "name": "stdout",
     "output_type": "stream",
     "text": [
      "F1_Score:  0.9100395021400441\n",
      "Precision:  0.9114581002381361\n",
      "Recall:  0.9094435063109183\n",
      "Accuracy:  0.9106060606060606\n"
     ]
    }
   ],
   "source": [
    "print('F1_Score: ',f1_score(y_test, y_pred, average=\"macro\"))\n",
    "print('Precision: ',precision_score(y_test, y_pred, average=\"macro\"))\n",
    "print('Recall: ',recall_score(y_test, y_pred, average=\"macro\"))\n",
    "print('Accuracy: ',accuracy_score(y_test, y_pred))   "
   ]
  },
  {
   "cell_type": "markdown",
   "metadata": {},
   "source": [
    "Out of the gate, we have over 90% across accuracy, precision, recall and F1_Score. This seems like a pretty positive first pass!"
   ]
  },
  {
   "cell_type": "markdown",
   "metadata": {},
   "source": [
    "**3. Now lets find the optimal number of n_neighbors and retest** "
   ]
  },
  {
   "cell_type": "code",
   "execution_count": 9,
   "metadata": {},
   "outputs": [
    {
     "data": {
      "text/plain": [
       "{'n_neighbors': 11}"
      ]
     },
     "execution_count": 9,
     "metadata": {},
     "output_type": "execute_result"
    }
   ],
   "source": [
    "#create new a knn model\n",
    "knn2 = KNeighborsClassifier()\n",
    "#create a dictionary of all values we want to test for n_neighbors\n",
    "param_grid = {'n_neighbors': np.arange(1, 25)}\n",
    "#use gridsearch to test all values for n_neighbors\n",
    "knn_gscv = GridSearchCV(knn2, param_grid, cv=5)\n",
    "#fit model to data\n",
    "knn_gscv.fit(X, y)\n",
    "\n",
    "#check top performing n_neighbors value\n",
    "knn_gscv.best_params_"
   ]
  },
  {
   "cell_type": "code",
   "execution_count": 10,
   "metadata": {},
   "outputs": [
    {
     "data": {
      "text/plain": [
       "array([[171,   4,   0,   0],\n",
       "       [  7, 149,   3,   0],\n",
       "       [  0,  12, 154,   5],\n",
       "       [  0,   0,  14, 141]])"
      ]
     },
     "execution_count": 10,
     "metadata": {},
     "output_type": "execute_result"
    }
   ],
   "source": [
    "knn = KNeighborsClassifier(n_neighbors=11, algorithm='auto', metric='euclidean')\n",
    "knn.fit(X_train,y_train)\n",
    "\n",
    "y_pred = knn.predict(X_test)\n",
    "\n",
    "confusion_matrix(y_test, y_pred)"
   ]
  },
  {
   "cell_type": "code",
   "execution_count": 11,
   "metadata": {},
   "outputs": [
    {
     "name": "stdout",
     "output_type": "stream",
     "text": [
      "F1_Score:  0.931513371266383\n",
      "Precision:  0.9325106700782114\n",
      "Recall:  0.9311279975145818\n",
      "Accuracy:  0.9318181818181818\n"
     ]
    }
   ],
   "source": [
    "print('F1_Score: ',f1_score(y_test, y_pred, average=\"macro\"))\n",
    "print('Precision: ',precision_score(y_test, y_pred, average=\"macro\"))\n",
    "print('Recall: ',recall_score(y_test, y_pred, average=\"macro\"))\n",
    "print('Accuracy: ',accuracy_score(y_test, y_pred))  "
   ]
  },
  {
   "cell_type": "markdown",
   "metadata": {},
   "source": [
    "Without even doing any initial analysis on the variables, we are already at over 93% accuracy for a balanced multi-classification problem. "
   ]
  },
  {
   "cell_type": "markdown",
   "metadata": {},
   "source": [
    "### B. Data Exploration"
   ]
  },
  {
   "cell_type": "markdown",
   "metadata": {},
   "source": [
    "**1. Numeric Data Types**"
   ]
  },
  {
   "cell_type": "code",
   "execution_count": 12,
   "metadata": {},
   "outputs": [
    {
     "data": {
      "text/plain": [
       "<matplotlib.axes._subplots.AxesSubplot at 0x7fe1281e22e8>"
      ]
     },
     "execution_count": 12,
     "metadata": {},
     "output_type": "execute_result"
    },
    {
     "data": {
      "image/png": "[encoded data removed]",
      "text/plain": [
       "<Figure size 2520x2520 with 14 Axes>"
      ]
     },
     "metadata": {
      "needs_background": "light"
     },
     "output_type": "display_data"
    }
   ],
   "source": [
    "f, axes = plt.subplots(7, 2, figsize=(35, 35))\n",
    "\n",
    "sns.boxplot(x='price_range', y='battery_power', data=df_train, ax=axes[0,0])\n",
    "sns.boxplot(x='price_range', y='clock_speed', data=df_train, ax=axes[0,1])\n",
    "sns.boxplot(x='price_range', y='fc', data=df_train, ax=axes[1,0])\n",
    "sns.boxplot(x='price_range', y='int_memory', data=df_train, ax=axes[1,1])\n",
    "sns.boxplot(x='price_range', y='m_dep', data=df_train, ax=axes[2,0])\n",
    "sns.boxplot(x='price_range', y='mobile_wt', data=df_train, ax=axes[2,1])\n",
    "sns.boxplot(x='price_range', y='n_cores', data=df_train, ax=axes[3,0])\n",
    "sns.boxplot(x='price_range', y='pc', data=df_train, ax=axes[3,1])\n",
    "sns.boxplot(x='price_range', y='px_height', data=df_train, ax=axes[4,0])\n",
    "sns.boxplot(x='price_range', y='px_width', data=df_train, ax=axes[4,1])\n",
    "sns.boxplot(x='price_range', y='ram', data=df_train, ax=axes[5,0])\n",
    "sns.boxplot(x='price_range', y='sc_h', data=df_train, ax=axes[5,1])\n",
    "sns.boxplot(x='price_range', y='sc_w', data=df_train, ax=axes[6,0])\n",
    "sns.boxplot(x='price_range', y='talk_time', data=df_train, ax=axes[6,1])"
   ]
  },
  {
   "cell_type": "markdown",
   "metadata": {},
   "source": [
    "What we see with this initial analysis for the features that have a numeric data type is that RAM has a clear correlation to the price range bucket that a phone falls into. I now have some initial doubts about using KNN as looking at the ranges of data show RAM on the largest scale which means its distance is driving the predictive model. None of the other numeric features are showing strong trends with the target - price_range. "
   ]
  },
  {
   "cell_type": "markdown",
   "metadata": {},
   "source": [
    "**2. Boolean Data Types** "
   ]
  },
  {
   "cell_type": "code",
   "execution_count": 13,
   "metadata": {},
   "outputs": [
    {
     "data": {
      "image/png": "[encoded data removed]",
      "text/plain": [
       "<Figure size 432x288 with 3 Axes>"
      ]
     },
     "metadata": {
      "needs_background": "light"
     },
     "output_type": "display_data"
    },
    {
     "data": {
      "image/png": "[encoded data removed]",
      "text/plain": [
       "<Figure size 432x288 with 3 Axes>"
      ]
     },
     "metadata": {
      "needs_background": "light"
     },
     "output_type": "display_data"
    },
    {
     "data": {
      "image/png": "[encoded data removed]",
      "text/plain": [
       "<Figure size 432x288 with 3 Axes>"
      ]
     },
     "metadata": {
      "needs_background": "light"
     },
     "output_type": "display_data"
    },
    {
     "data": {
      "image/png": "[encoded data removed]",
      "text/plain": [
       "<Figure size 432x288 with 3 Axes>"
      ]
     },
     "metadata": {
      "needs_background": "light"
     },
     "output_type": "display_data"
    },
    {
     "data": {
      "image/png": "[encoded data removed]",
      "text/plain": [
       "<Figure size 432x288 with 3 Axes>"
      ]
     },
     "metadata": {
      "needs_background": "light"
     },
     "output_type": "display_data"
    }
   ],
   "source": [
    "mosaic(df_train, ['blue','price_range'], title = 'blue')\n",
    "plt.show()\n",
    "\n",
    "mosaic(df_train, ['dual_sim','price_range'], title = 'dual_sim')\n",
    "plt.show()\n",
    "\n",
    "mosaic(df_train, ['three_g','price_range'], title = 'three_g')\n",
    "plt.show()\n",
    "\n",
    "mosaic(df_train, ['touch_screen','price_range'], title = 'touch_screen')\n",
    "plt.show()\n",
    "\n",
    "mosaic(df_train, ['wifi','price_range'], title = 'wifi')\n",
    "plt.show()"
   ]
  },
  {
   "cell_type": "code",
   "execution_count": 14,
   "metadata": {},
   "outputs": [
    {
     "name": "stderr",
     "output_type": "stream",
     "text": [
      "/opt/cloudera/parcels/Anaconda/envs/py36/lib/python3.6/site-packages/ipykernel_launcher.py:2: SettingWithCopyWarning: \n",
      "A value is trying to be set on a copy of a slice from a DataFrame.\n",
      "Try using .loc[row_indexer,col_indexer] = value instead\n",
      "\n",
      "See the caveats in the documentation: http://pandas.pydata.org/pandas-docs/stable/indexing.html#indexing-view-versus-copy\n",
      "  \n"
     ]
    }
   ],
   "source": [
    "df = df_train[['blue','dual_sim','three_g','touch_screen','wifi','price_range']]\n",
    "df['cnt_flag'] = 1\n",
    "\n",
    "df1 = pd.pivot_table(df, index='price_range',columns='blue', values='cnt_flag', aggfunc='count')\n",
    "df2 = pd.pivot_table(df, index='price_range',columns='dual_sim', values='cnt_flag', aggfunc='count')\n",
    "df3 = pd.pivot_table(df, index='price_range',columns='three_g', values='cnt_flag', aggfunc='count')\n",
    "df4 = pd.pivot_table(df, index='price_range',columns='touch_screen', values='cnt_flag', aggfunc='count')\n",
    "df5 = pd.pivot_table(df, index='price_range',columns='wifi', values='cnt_flag', aggfunc='count')\n",
    "\n",
    "#display(df1,df2,df3,df4,df5)\n",
    "#run if want to look at tables"
   ]
  },
  {
   "cell_type": "markdown",
   "metadata": {},
   "source": [
    "No clear pattern with boolean data type features."
   ]
  },
  {
   "cell_type": "markdown",
   "metadata": {},
   "source": [
    "**3. Pearson's Correlation to eliminate highly correlated numeric features**"
   ]
  },
  {
   "cell_type": "code",
   "execution_count": 15,
   "metadata": {},
   "outputs": [
    {
     "data": {
      "text/plain": [
       "<matplotlib.axes._subplots.AxesSubplot at 0x7fe1251fa0b8>"
      ]
     },
     "execution_count": 15,
     "metadata": {},
     "output_type": "execute_result"
    },
    {
     "data": {
      "image/png": "[encoded data removed]",
      "text/plain": [
       "<Figure size 1008x1008 with 2 Axes>"
      ]
     },
     "metadata": {
      "needs_background": "light"
     },
     "output_type": "display_data"
    }
   ],
   "source": [
    "fig, ax = plt.subplots(figsize=(14,14))\n",
    "sns.heatmap(df_train[['battery_power','clock_speed','fc','int_memory','m_dep','mobile_wt','n_cores','pc','px_height','px_width','ram','sc_h','sc_w','talk_time']].corr(method ='pearson'), annot=True, ax=ax, linewidths=.5)"
   ]
  },
  {
   "cell_type": "markdown",
   "metadata": {},
   "source": [
    "We see high correlation (using the Pearson scale) between features sc_h and sc_w and features px_height and px_width.  Looking at the boxplots, sc_w trend up better than sc_h and so does px_height, so we could remove sc_h and px_width if we are concerned about collinearity."
   ]
  },
  {
   "cell_type": "code",
   "execution_count": null,
   "metadata": {},
   "outputs": [],
   "source": [
    "#df_train = df_train.drop(['sc_h', 'px_width'], axis=1)\n",
    "#df_test = df_test.drop(['sc_h', 'px_width'], axis=1)"
   ]
  },
  {
   "cell_type": "markdown",
   "metadata": {},
   "source": [
    "### C. Most Influential Features"
   ]
  },
  {
   "cell_type": "markdown",
   "metadata": {},
   "source": [
    "**1. Find most important feature compared to target.**"
   ]
  },
  {
   "cell_type": "code",
   "execution_count": 16,
   "metadata": {},
   "outputs": [
    {
     "name": "stdout",
     "output_type": "stream",
     "text": [
      "Feature  Accuracy\n",
      "battery_power  (0) --> 0.266984\n",
      "blue  (1) --> 0.249985\n",
      "clock_speed  (2) --> 0.24348\n",
      "dual_sim  (3) --> 0.247499\n",
      "fc  (4) --> 0.227518\n",
      "four_g  (5) --> 0.251509\n",
      "int_memory  (6) --> 0.261465\n",
      "m_dep  (7) --> 0.256484\n",
      "mobile_wt  (8) --> 0.250995\n",
      "n_cores  (9) --> 0.256511\n",
      "pc  (10) --> 0.256529\n",
      "px_height  (11) --> 0.263509\n",
      "px_width  (12) --> 0.25649\n",
      "ram  (13) --> 0.728489\n",
      "sc_h  (14) --> 0.244496\n",
      "sc_w  (15) --> 0.25251\n",
      "talk_time  (16) --> 0.248443\n",
      "three_g  (17) --> 0.250021\n",
      "touch_screen  (18) --> 0.248449\n",
      "wifi  (19) --> 0.24048\n"
     ]
    }
   ],
   "source": [
    "import numpy as np\n",
    "from sklearn import datasets\n",
    "from sklearn.neighbors import KNeighborsClassifier\n",
    "from sklearn.model_selection import cross_val_score\n",
    "\n",
    "X1 = np.array(X)\n",
    "y1 = np.array(y)\n",
    "\n",
    "clf = KNeighborsClassifier()\n",
    "\n",
    "print('Feature  Accuracy')\n",
    "for i in range(20):\n",
    "    X2 = X1[:, i].reshape(-1, 1)\n",
    "    scores = cross_val_score(clf, X2, y1)\n",
    "    #print('%d        %g' % (i, scores.mean()))\n",
    "    print(X.columns[i],' (%d) --> %g' % (i, scores.mean()))"
   ]
  },
  {
   "cell_type": "markdown",
   "metadata": {},
   "source": [
    "This analysis validates what was earlier thought in the data exploration, ram is the dominant feature of importance. "
   ]
  },
  {
   "cell_type": "markdown",
   "metadata": {},
   "source": [
    "**2. Identify the top most influential features and their effect on predicting the target.**"
   ]
  },
  {
   "cell_type": "code",
   "execution_count": 17,
   "metadata": {},
   "outputs": [
    {
     "name": "stdout",
     "output_type": "stream",
     "text": [
      "Feature  Accuracy\n",
      "ram  +  battery_power  (0) --> 0.795\n",
      "ram  +  blue  (1) --> 0.727993\n",
      "ram  +  clock_speed  (2) --> 0.728985\n",
      "ram  +  dual_sim  (3) --> 0.729499\n",
      "ram  +  fc  (4) --> 0.731516\n",
      "ram  +  four_g  (5) --> 0.728994\n",
      "ram  +  int_memory  (6) --> 0.720995\n",
      "ram  +  m_dep  (7) --> 0.724491\n",
      "ram  +  mobile_wt  (8) --> 0.727527\n",
      "ram  +  n_cores  (9) --> 0.728492\n",
      "ram  +  pc  (10) --> 0.727993\n",
      "ram  +  px_height  (11) --> 0.771505\n",
      "ram  +  px_width  (12) --> 0.762511\n",
      "ram  +  ram  (13) --> 0.728489\n",
      "ram  +  sc_h  (14) --> 0.724987\n",
      "ram  +  sc_w  (15) --> 0.729487\n",
      "ram  +  talk_time  (16) --> 0.733482\n",
      "ram  +  three_g  (17) --> 0.727987\n",
      "ram  +  touch_screen  (18) --> 0.727497\n",
      "ram  +  wifi  (19) --> 0.72499\n"
     ]
    }
   ],
   "source": [
    "import numpy as np\n",
    "from sklearn import datasets\n",
    "from sklearn.neighbors import KNeighborsClassifier\n",
    "from sklearn.model_selection import cross_val_score\n",
    "\n",
    "X1 = np.array(X)\n",
    "y1 = np.array(y)\n",
    "\n",
    "clf = KNeighborsClassifier()\n",
    "\n",
    "print('Feature  Accuracy')\n",
    "for i in range(20):\n",
    "    X2 = np.concatenate((X1[:,13].reshape(-1, 1),X1[:,i].reshape(-1, 1)),axis=1)\n",
    "    scores = cross_val_score(clf, X2, y1)\n",
    "    #print('%d        %g' % (i, scores.mean()))\n",
    "    print(X.columns[13],' + ',X.columns[i],' (%d) --> %g' % (i, scores.mean()))"
   ]
  },
  {
   "cell_type": "code",
   "execution_count": 18,
   "metadata": {},
   "outputs": [
    {
     "name": "stdout",
     "output_type": "stream",
     "text": [
      "Feature  Accuracy\n",
      "ram  + battery +  battery_power  (0) --> 0.794507\n",
      "ram  + battery +  blue  (1) --> 0.795\n",
      "ram  + battery +  clock_speed  (2) --> 0.795\n",
      "ram  + battery +  dual_sim  (3) --> 0.795\n",
      "ram  + battery +  fc  (4) --> 0.795\n",
      "ram  + battery +  four_g  (5) --> 0.795\n",
      "ram  + battery +  int_memory  (6) --> 0.793993\n",
      "ram  + battery +  m_dep  (7) --> 0.795\n",
      "ram  + battery +  mobile_wt  (8) --> 0.799494\n",
      "ram  + battery +  n_cores  (9) --> 0.795\n",
      "ram  + battery +  pc  (10) --> 0.793999\n",
      "ram  + battery +  px_height  (11) --> 0.889991\n",
      "ram  + battery +  px_width  (12) --> 0.879996\n",
      "ram  + battery +  ram  (13) --> 0.796512\n",
      "ram  + battery +  sc_h  (14) --> 0.795\n",
      "ram  + battery +  sc_w  (15) --> 0.795499\n",
      "ram  + battery +  talk_time  (16) --> 0.794002\n",
      "ram  + battery +  three_g  (17) --> 0.795\n",
      "ram  + battery +  touch_screen  (18) --> 0.795\n",
      "ram  + battery +  wifi  (19) --> 0.795\n"
     ]
    }
   ],
   "source": [
    "import numpy as np\n",
    "from sklearn import datasets\n",
    "from sklearn.neighbors import KNeighborsClassifier\n",
    "from sklearn.model_selection import cross_val_score\n",
    "\n",
    "X1 = np.array(X)\n",
    "y1 = np.array(y)\n",
    "\n",
    "clf = KNeighborsClassifier()\n",
    "\n",
    "print('Feature  Accuracy')\n",
    "for i in range(20):\n",
    "    X2 = np.concatenate((X1[:,13].reshape(-1, 1),X1[:,0].reshape(-1, 1),X1[:,i].reshape(-1, 1)),axis=1)\n",
    "    scores = cross_val_score(clf, X2, y1)\n",
    "    #print('%d        %g' % (i, scores.mean()))\n",
    "    print(X.columns[13],' + battery + ',X.columns[i],' (%d) --> %g' % (i, scores.mean()))"
   ]
  },
  {
   "cell_type": "code",
   "execution_count": 19,
   "metadata": {},
   "outputs": [
    {
     "name": "stdout",
     "output_type": "stream",
     "text": [
      "Feature  Accuracy\n",
      "ram + battery + pc_height +  battery_power  (0) --> 0.882488\n",
      "ram + battery + pc_height +  blue  (1) --> 0.889991\n",
      "ram + battery + pc_height +  clock_speed  (2) --> 0.889991\n",
      "ram + battery + pc_height +  dual_sim  (3) --> 0.889991\n",
      "ram + battery + pc_height +  fc  (4) --> 0.889991\n",
      "ram + battery + pc_height +  four_g  (5) --> 0.889991\n",
      "ram + battery + pc_height +  int_memory  (6) --> 0.888993\n",
      "ram + battery + pc_height +  m_dep  (7) --> 0.889991\n",
      "ram + battery + pc_height +  mobile_wt  (8) --> 0.887995\n",
      "ram + battery + pc_height +  n_cores  (9) --> 0.889991\n",
      "ram + battery + pc_height +  pc  (10) --> 0.890493\n",
      "ram + battery + pc_height +  px_height  (11) --> 0.883507\n",
      "ram + battery + pc_height +  px_width  (12) --> 0.926009\n",
      "ram + battery + pc_height +  ram  (13) --> 0.887992\n",
      "ram + battery + pc_height +  sc_h  (14) --> 0.889991\n",
      "ram + battery + pc_height +  sc_w  (15) --> 0.889991\n",
      "ram + battery + pc_height +  talk_time  (16) --> 0.889991\n",
      "ram + battery + pc_height +  three_g  (17) --> 0.889991\n",
      "ram + battery + pc_height +  touch_screen  (18) --> 0.889991\n",
      "ram + battery + pc_height +  wifi  (19) --> 0.889991\n"
     ]
    }
   ],
   "source": [
    "import numpy as np\n",
    "from sklearn import datasets\n",
    "from sklearn.neighbors import KNeighborsClassifier\n",
    "from sklearn.model_selection import cross_val_score\n",
    "\n",
    "X1 = np.array(X)\n",
    "y1 = np.array(y)\n",
    "\n",
    "clf = KNeighborsClassifier()\n",
    "\n",
    "print('Feature  Accuracy')\n",
    "for i in range(20):\n",
    "    X2 = np.concatenate((X1[:,13].reshape(-1, 1),X1[:,0].reshape(-1, 1),X1[:,11].reshape(-1, 1),X1[:,i].reshape(-1, 1)),axis=1)\n",
    "    scores = cross_val_score(clf, X2, y1)\n",
    "    #print('%d        %g' % (i, scores.mean()))\n",
    "    print('ram + battery + pc_height + ',X.columns[i],' (%d) --> %g' % (i, scores.mean()))"
   ]
  },
  {
   "cell_type": "code",
   "execution_count": 20,
   "metadata": {},
   "outputs": [
    {
     "name": "stdout",
     "output_type": "stream",
     "text": [
      "Feature  Accuracy\n",
      "ram + battery + px_height + px_width +  battery_power  (0) --> 0.920018\n",
      "ram + battery + px_height + px_width +  blue  (1) --> 0.926009\n",
      "ram + battery + px_height + px_width +  clock_speed  (2) --> 0.926009\n",
      "ram + battery + px_height + px_width +  dual_sim  (3) --> 0.926009\n",
      "ram + battery + px_height + px_width +  fc  (4) --> 0.926009\n",
      "ram + battery + px_height + px_width +  four_g  (5) --> 0.926009\n",
      "ram + battery + px_height + px_width +  int_memory  (6) --> 0.926508\n",
      "ram + battery + px_height + px_width +  m_dep  (7) --> 0.926009\n",
      "ram + battery + px_height + px_width +  mobile_wt  (8) --> 0.924503\n",
      "ram + battery + px_height + px_width +  n_cores  (9) --> 0.926009\n",
      "ram + battery + px_height + px_width +  pc  (10) --> 0.926009\n",
      "ram + battery + px_height + px_width +  px_height  (11) --> 0.925002\n",
      "ram + battery + px_height + px_width +  px_width  (12) --> 0.922005\n",
      "ram + battery + px_height + px_width +  ram  (13) --> 0.924001\n",
      "ram + battery + px_height + px_width +  sc_h  (14) --> 0.926009\n",
      "ram + battery + px_height + px_width +  sc_w  (15) --> 0.926009\n",
      "ram + battery + px_height + px_width +  talk_time  (16) --> 0.926508\n",
      "ram + battery + px_height + px_width +  three_g  (17) --> 0.926009\n",
      "ram + battery + px_height + px_width +  touch_screen  (18) --> 0.926009\n",
      "ram + battery + px_height + px_width +  wifi  (19) --> 0.926009\n"
     ]
    }
   ],
   "source": [
    "import numpy as np\n",
    "from sklearn import datasets\n",
    "from sklearn.neighbors import KNeighborsClassifier\n",
    "from sklearn.model_selection import cross_val_score\n",
    "\n",
    "X1 = np.array(X)\n",
    "y1 = np.array(y)\n",
    "\n",
    "clf = KNeighborsClassifier()\n",
    "\n",
    "print('Feature  Accuracy')\n",
    "for i in range(20):\n",
    "    X2 = np.concatenate((X1[:,13].reshape(-1, 1),X1[:,0].reshape(-1, 1),X1[:,11].reshape(-1, 1),X1[:,12].reshape(-1, 1),X1[:,i].reshape(-1, 1)),axis=1)\n",
    "    scores = cross_val_score(clf, X2, y1)\n",
    "    #print('%d        %g' % (i, scores.mean()))\n",
    "    print('ram + battery + px_height + px_width + ',X.columns[i],' (%d) --> %g' % (i, scores.mean()))"
   ]
  },
  {
   "cell_type": "markdown",
   "metadata": {},
   "source": [
    "### D. Normalize and Weight Features Manually"
   ]
  },
  {
   "cell_type": "code",
   "execution_count": 37,
   "metadata": {},
   "outputs": [],
   "source": [
    "# Get column names first of numeric fields\n",
    "names = ['battery_power', 'clock_speed', 'fc', 'four_g',\n",
    "       'int_memory', 'm_dep', 'mobile_wt', 'n_cores', 'pc', 'px_height', 'px_width', 'ram',\n",
    "       'sc_h', 'sc_w', 'talk_time']\n",
    "\n",
    "# Create the Scaler object\n",
    "scaler = preprocessing.StandardScaler()\n",
    "\n",
    "# Fit your data on the scaler object\n",
    "train_scaled_df = scaler.fit_transform(df_train[names])\n",
    "train_scaled_df = pd.DataFrame(train_scaled_df, columns=names)\n",
    "\n",
    "df_train2 = pd.merge(train_scaled_df[names], df_train[['blue','dual_sim','three_g','touch_screen','wifi','price_range']], left_index=True, right_index=True)\n",
    "\n",
    "test_scaled_df = scaler.fit_transform(df_test[names])\n",
    "test_scaled_df = pd.DataFrame(test_scaled_df, columns=names)\n",
    "\n",
    "df_test2 = pd.merge(test_scaled_df[names], df_test[['blue','dual_sim','three_g','touch_screen','wifi']], left_index=True, right_index=True)"
   ]
  },
  {
   "cell_type": "code",
   "execution_count": 38,
   "metadata": {},
   "outputs": [
    {
     "data": {
      "text/html": [
       "<div>\n",
       "<style scoped>\n",
       "    .dataframe tbody tr th:only-of-type {\n",
       "        vertical-align: middle;\n",
       "    }\n",
       "\n",
       "    .dataframe tbody tr th {\n",
       "        vertical-align: top;\n",
       "    }\n",
       "\n",
       "    .dataframe thead th {\n",
       "        text-align: right;\n",
       "    }\n",
       "</style>\n",
       "<table border=\"1\" class=\"dataframe\">\n",
       "  <thead>\n",
       "    <tr style=\"text-align: right;\">\n",
       "      <th></th>\n",
       "      <th>battery_power</th>\n",
       "      <th>clock_speed</th>\n",
       "      <th>fc</th>\n",
       "      <th>four_g</th>\n",
       "      <th>int_memory</th>\n",
       "      <th>m_dep</th>\n",
       "      <th>mobile_wt</th>\n",
       "      <th>n_cores</th>\n",
       "      <th>pc</th>\n",
       "      <th>px_height</th>\n",
       "      <th>px_width</th>\n",
       "      <th>ram</th>\n",
       "      <th>sc_h</th>\n",
       "      <th>sc_w</th>\n",
       "      <th>talk_time</th>\n",
       "      <th>blue</th>\n",
       "      <th>dual_sim</th>\n",
       "      <th>three_g</th>\n",
       "      <th>touch_screen</th>\n",
       "      <th>wifi</th>\n",
       "      <th>price_range</th>\n",
       "    </tr>\n",
       "  </thead>\n",
       "  <tbody>\n",
       "    <tr>\n",
       "      <th>0</th>\n",
       "      <td>-0.902597</td>\n",
       "      <td>0.830779</td>\n",
       "      <td>-0.762495</td>\n",
       "      <td>-1.043966</td>\n",
       "      <td>-1.380644</td>\n",
       "      <td>0.340740</td>\n",
       "      <td>1.349249</td>\n",
       "      <td>-1.101971</td>\n",
       "      <td>-1.305750</td>\n",
       "      <td>-1.408949</td>\n",
       "      <td>-1.146784</td>\n",
       "      <td>0.391703</td>\n",
       "      <td>-0.784983</td>\n",
       "      <td>0.283103</td>\n",
       "      <td>1.462493</td>\n",
       "      <td>0</td>\n",
       "      <td>0</td>\n",
       "      <td>0</td>\n",
       "      <td>0</td>\n",
       "      <td>1</td>\n",
       "      <td>1</td>\n",
       "    </tr>\n",
       "    <tr>\n",
       "      <th>1</th>\n",
       "      <td>-0.495139</td>\n",
       "      <td>-1.253064</td>\n",
       "      <td>-0.992890</td>\n",
       "      <td>0.957886</td>\n",
       "      <td>1.155024</td>\n",
       "      <td>0.687548</td>\n",
       "      <td>-0.120059</td>\n",
       "      <td>-0.664768</td>\n",
       "      <td>-0.645989</td>\n",
       "      <td>0.585778</td>\n",
       "      <td>1.704465</td>\n",
       "      <td>0.467317</td>\n",
       "      <td>1.114266</td>\n",
       "      <td>-0.635317</td>\n",
       "      <td>-0.734267</td>\n",
       "      <td>1</td>\n",
       "      <td>1</td>\n",
       "      <td>1</td>\n",
       "      <td>1</td>\n",
       "      <td>0</td>\n",
       "      <td>2</td>\n",
       "    </tr>\n",
       "    <tr>\n",
       "      <th>2</th>\n",
       "      <td>-1.537686</td>\n",
       "      <td>-1.253064</td>\n",
       "      <td>-0.532099</td>\n",
       "      <td>0.957886</td>\n",
       "      <td>0.493546</td>\n",
       "      <td>1.381165</td>\n",
       "      <td>0.134244</td>\n",
       "      <td>0.209639</td>\n",
       "      <td>-0.645989</td>\n",
       "      <td>1.392684</td>\n",
       "      <td>1.074968</td>\n",
       "      <td>0.441498</td>\n",
       "      <td>-0.310171</td>\n",
       "      <td>-0.864922</td>\n",
       "      <td>-0.368140</td>\n",
       "      <td>1</td>\n",
       "      <td>1</td>\n",
       "      <td>1</td>\n",
       "      <td>1</td>\n",
       "      <td>0</td>\n",
       "      <td>2</td>\n",
       "    </tr>\n",
       "    <tr>\n",
       "      <th>3</th>\n",
       "      <td>-1.419319</td>\n",
       "      <td>1.198517</td>\n",
       "      <td>-0.992890</td>\n",
       "      <td>-1.043966</td>\n",
       "      <td>-1.215274</td>\n",
       "      <td>1.034357</td>\n",
       "      <td>-0.261339</td>\n",
       "      <td>0.646842</td>\n",
       "      <td>-0.151168</td>\n",
       "      <td>1.286750</td>\n",
       "      <td>1.236971</td>\n",
       "      <td>0.594569</td>\n",
       "      <td>0.876859</td>\n",
       "      <td>0.512708</td>\n",
       "      <td>-0.002014</td>\n",
       "      <td>1</td>\n",
       "      <td>0</td>\n",
       "      <td>1</td>\n",
       "      <td>0</td>\n",
       "      <td>0</td>\n",
       "      <td>2</td>\n",
       "    </tr>\n",
       "    <tr>\n",
       "      <th>4</th>\n",
       "      <td>1.325906</td>\n",
       "      <td>-0.395011</td>\n",
       "      <td>2.002254</td>\n",
       "      <td>0.957886</td>\n",
       "      <td>0.658915</td>\n",
       "      <td>0.340740</td>\n",
       "      <td>0.021220</td>\n",
       "      <td>-1.101971</td>\n",
       "      <td>0.673534</td>\n",
       "      <td>1.268718</td>\n",
       "      <td>-0.091452</td>\n",
       "      <td>-0.657666</td>\n",
       "      <td>-1.022389</td>\n",
       "      <td>-0.864922</td>\n",
       "      <td>0.730240</td>\n",
       "      <td>1</td>\n",
       "      <td>0</td>\n",
       "      <td>1</td>\n",
       "      <td>1</td>\n",
       "      <td>0</td>\n",
       "      <td>1</td>\n",
       "    </tr>\n",
       "  </tbody>\n",
       "</table>\n",
       "</div>"
      ],
      "text/plain": [
       "   battery_power  clock_speed        fc    four_g  int_memory     m_dep  \\\n",
       "0      -0.902597     0.830779 -0.762495 -1.043966   -1.380644  0.340740   \n",
       "1      -0.495139    -1.253064 -0.992890  0.957886    1.155024  0.687548   \n",
       "2      -1.537686    -1.253064 -0.532099  0.957886    0.493546  1.381165   \n",
       "3      -1.419319     1.198517 -0.992890 -1.043966   -1.215274  1.034357   \n",
       "4       1.325906    -0.395011  2.002254  0.957886    0.658915  0.340740   \n",
       "\n",
       "   mobile_wt   n_cores        pc  px_height  px_width       ram      sc_h  \\\n",
       "0   1.349249 -1.101971 -1.305750  -1.408949 -1.146784  0.391703 -0.784983   \n",
       "1  -0.120059 -0.664768 -0.645989   0.585778  1.704465  0.467317  1.114266   \n",
       "2   0.134244  0.209639 -0.645989   1.392684  1.074968  0.441498 -0.310171   \n",
       "3  -0.261339  0.646842 -0.151168   1.286750  1.236971  0.594569  0.876859   \n",
       "4   0.021220 -1.101971  0.673534   1.268718 -0.091452 -0.657666 -1.022389   \n",
       "\n",
       "       sc_w  talk_time  blue  dual_sim  three_g  touch_screen  wifi  \\\n",
       "0  0.283103   1.462493     0         0        0             0     1   \n",
       "1 -0.635317  -0.734267     1         1        1             1     0   \n",
       "2 -0.864922  -0.368140     1         1        1             1     0   \n",
       "3  0.512708  -0.002014     1         0        1             0     0   \n",
       "4 -0.864922   0.730240     1         0        1             1     0   \n",
       "\n",
       "   price_range  \n",
       "0            1  \n",
       "1            2  \n",
       "2            2  \n",
       "3            2  \n",
       "4            1  "
      ]
     },
     "execution_count": 38,
     "metadata": {},
     "output_type": "execute_result"
    }
   ],
   "source": [
    "df_train2.head()"
   ]
  },
  {
   "cell_type": "markdown",
   "metadata": {},
   "source": [
    "After finding the most influential featurs, it would make sense to weight these features more heavily than others after normalizing as we know they are a bigger driver in predicting the target. "
   ]
  },
  {
   "cell_type": "code",
   "execution_count": 39,
   "metadata": {},
   "outputs": [],
   "source": [
    "df_train2['ram'] = df_train2['ram']*7\n",
    "df_test2['ram'] = df_test2['ram']*7\n",
    "\n",
    "df_train2['battery_power'] = df_train2['battery_power']*2.6\n",
    "df_test2['battery_power'] = df_test2['battery_power']*2.6\n",
    "\n",
    "df_train2['px_height'] = df_train2['px_height']*2.5\n",
    "df_test2['px_height'] = df_test2['px_height']*2.5\n",
    "\n",
    "df_train2['px_width'] = df_train2['px_width']*2.5\n",
    "df_test2['px_width'] = df_test2['px_width']*2.5"
   ]
  },
  {
   "cell_type": "code",
   "execution_count": 40,
   "metadata": {},
   "outputs": [],
   "source": [
    "X = df_train2[['battery_power','blue','clock_speed','dual_sim','fc','four_g','int_memory','m_dep','mobile_wt','n_cores','pc','px_height','px_width','ram','sc_h','sc_w','talk_time','three_g','touch_screen','wifi']]\n",
    "y = df_train2['price_range']\n",
    "seed = 7\n",
    "test_size = 0.33\n",
    "X_train, X_test, y_train, y_test = train_test_split(X, y, test_size=test_size, random_state=seed)"
   ]
  },
  {
   "cell_type": "code",
   "execution_count": 41,
   "metadata": {},
   "outputs": [
    {
     "data": {
      "text/plain": [
       "{'n_neighbors': 13}"
      ]
     },
     "execution_count": 41,
     "metadata": {},
     "output_type": "execute_result"
    }
   ],
   "source": [
    "#create new a knn model\n",
    "knn2 = KNeighborsClassifier()\n",
    "#create a dictionary of all values we want to test for n_neighbors\n",
    "param_grid = {'n_neighbors': np.arange(1, 25)}\n",
    "#use gridsearch to test all values for n_neighbors\n",
    "knn_gscv = GridSearchCV(knn2, param_grid, cv=5)\n",
    "#fit model to data\n",
    "knn_gscv.fit(X, y)\n",
    "\n",
    "#check top performing n_neighbors value\n",
    "knn_gscv.best_params_"
   ]
  },
  {
   "cell_type": "code",
   "execution_count": 42,
   "metadata": {},
   "outputs": [
    {
     "data": {
      "text/plain": [
       "array([[171,   4,   0,   0],\n",
       "       [  8, 144,   7,   0],\n",
       "       [  0,  13, 151,   7],\n",
       "       [  0,   0,  16, 139]])"
      ]
     },
     "execution_count": 42,
     "metadata": {},
     "output_type": "execute_result"
    }
   ],
   "source": [
    "knn = KNeighborsClassifier(n_neighbors=13, algorithm='auto', metric='euclidean')\n",
    "knn.fit(X_train,y_train)\n",
    "\n",
    "y_pred = knn.predict(X_test)\n",
    "\n",
    "confusion_matrix(y_test, y_pred)"
   ]
  },
  {
   "cell_type": "code",
   "execution_count": 43,
   "metadata": {},
   "outputs": [
    {
     "name": "stdout",
     "output_type": "stream",
     "text": [
      "F1_Score:  0.9162630134057359\n",
      "Precision:  0.9173970217331505\n",
      "Recall:  0.9156545909305622\n",
      "Accuracy:  0.9166666666666666\n"
     ]
    }
   ],
   "source": [
    "print('F1_Score: ',f1_score(y_test, y_pred, average=\"macro\"))\n",
    "print('Precision: ',precision_score(y_test, y_pred, average=\"macro\"))\n",
    "print('Recall: ',recall_score(y_test, y_pred, average=\"macro\"))\n",
    "print('Accuracy: ',accuracy_score(y_test, y_pred)) "
   ]
  },
  {
   "cell_type": "markdown",
   "metadata": {},
   "source": [
    "### E. ID3 Model -- Gut check with a different algorithm"
   ]
  },
  {
   "cell_type": "code",
   "execution_count": 28,
   "metadata": {},
   "outputs": [],
   "source": [
    "# Function to perform training with giniIndex. \n",
    "def train_using_gini(X_train, X_test, y_train): \n",
    "  \n",
    "    # Creating the classifier object \n",
    "    clf_gini = DecisionTreeClassifier(criterion = \"gini\", \n",
    "            random_state = 100,max_depth=3, min_samples_leaf=5) \n",
    "  \n",
    "    # Performing training \n",
    "    clf_gini.fit(X_train, y_train) \n",
    "    return clf_gini \n",
    "      \n",
    "# Function to perform training with entropy. \n",
    "def tarin_using_entropy(X_train, X_test, y_train): \n",
    "  \n",
    "    # Decision tree with entropy \n",
    "    clf_entropy = DecisionTreeClassifier( \n",
    "            criterion = \"entropy\", random_state = 100, \n",
    "            max_depth = 3, min_samples_leaf = 5) \n",
    "  \n",
    "    # Performing training \n",
    "    clf_entropy.fit(X_train, y_train) \n",
    "    return clf_entropy \n",
    "  \n",
    "#Function for predictions\n",
    "def prediction(X_test, clf_object): \n",
    "  \n",
    "    # Predicton on test with giniIndex \n",
    "    y_pred = clf_object.predict(X_test) \n",
    "    #print(\"Predicted values:\") \n",
    "    #print(y_pred) \n",
    "    return y_pred \n",
    "      \n",
    "# Function to calculate accuracy \n",
    "def cal_accuracy(y_test, y_pred): \n",
    "      \n",
    "    print(\"Confusion Matrix: \", \n",
    "        confusion_matrix(y_test, y_pred)) \n",
    "      \n",
    "    print (\"Accuracy : \", \n",
    "    accuracy_score(y_test,y_pred)*100) \n",
    "      \n",
    "    print(\"Report : \", \n",
    "    classification_report(y_test, y_pred)) \n",
    "\n"
   ]
  },
  {
   "cell_type": "code",
   "execution_count": 29,
   "metadata": {},
   "outputs": [
    {
     "name": "stdout",
     "output_type": "stream",
     "text": [
      "Results Using Gini Index:\n",
      "Confusion Matrix:  [[136  39   0   0]\n",
      " [  6 129  24   0]\n",
      " [  0  39 107  25]\n",
      " [  0   0  38 117]]\n",
      "Accuracy :  74.0909090909091\n",
      "Report :               precision    recall  f1-score   support\n",
      "\n",
      "          0       0.96      0.78      0.86       175\n",
      "          1       0.62      0.81      0.70       159\n",
      "          2       0.63      0.63      0.63       171\n",
      "          3       0.82      0.75      0.79       155\n",
      "\n",
      "avg / total       0.76      0.74      0.75       660\n",
      "\n",
      "Results Using Entropy:\n",
      "Confusion Matrix:  [[140  35   0   0]\n",
      " [  8 127  24   0]\n",
      " [  0  39  98  34]\n",
      " [  0   0  25 130]]\n",
      "Accuracy :  75.0\n",
      "Report :               precision    recall  f1-score   support\n",
      "\n",
      "          0       0.95      0.80      0.87       175\n",
      "          1       0.63      0.80      0.71       159\n",
      "          2       0.67      0.57      0.62       171\n",
      "          3       0.79      0.84      0.82       155\n",
      "\n",
      "avg / total       0.76      0.75      0.75       660\n",
      "\n"
     ]
    }
   ],
   "source": [
    "#Run Code\n",
    "def main(): \n",
    "      \n",
    "    # Building Phase \n",
    "    clf_gini = train_using_gini(X_train, X_test, y_train) \n",
    "    clf_entropy = tarin_using_entropy(X_train, X_test, y_train) \n",
    "      \n",
    "    # Operational Phase \n",
    "    print(\"Results Using Gini Index:\") \n",
    "      \n",
    "    # Prediction using gini \n",
    "    y_pred_gini = prediction(X_test, clf_gini) \n",
    "    cal_accuracy(y_test, y_pred_gini) \n",
    "      \n",
    "    \n",
    "    print(\"Results Using Entropy:\") \n",
    "    # Prediction using entropy \n",
    "    y_pred_entropy = prediction(X_test, clf_entropy) \n",
    "    cal_accuracy(y_test, y_pred_entropy)\n",
    "\n",
    "# Calling main function \n",
    "if __name__==\"__main__\": \n",
    "    main() "
   ]
  },
  {
   "cell_type": "code",
   "execution_count": 30,
   "metadata": {},
   "outputs": [
    {
     "name": "stdout",
     "output_type": "stream",
     "text": [
      "Feature  Accuracy\n",
      "battery_power  (0) --> 0.321508\n",
      "blue  (1) --> 0.242527\n",
      "clock_speed  (2) --> 0.243023\n",
      "dual_sim  (3) --> 0.247493\n",
      "fc  (4) --> 0.245494\n",
      "four_g  (5) --> 0.263993\n",
      "int_memory  (6) --> 0.256496\n",
      "m_dep  (7) --> 0.245987\n",
      "mobile_wt  (8) --> 0.245957\n",
      "n_cores  (9) --> 0.25753\n",
      "pc  (10) --> 0.251007\n",
      "px_height  (11) --> 0.285498\n",
      "px_width  (12) --> 0.29001\n",
      "ram  (13) --> 0.754488\n",
      "sc_h  (14) --> 0.260482\n",
      "sc_w  (15) --> 0.244484\n",
      "talk_time  (16) --> 0.243501\n",
      "three_g  (17) --> 0.245996\n",
      "touch_screen  (18) --> 0.253986\n",
      "wifi  (19) --> 0.240979\n"
     ]
    }
   ],
   "source": [
    "X1 = np.array(X)\n",
    "y1 = np.array(y)\n",
    "\n",
    "clf = DecisionTreeClassifier(criterion = \"gini\", \n",
    "            random_state = 100,max_depth=3, min_samples_leaf=5)\n",
    "\n",
    "print('Feature  Accuracy')\n",
    "for i in range(20):\n",
    "    X2 = X1[:, i].reshape(-1, 1)\n",
    "    scores = cross_val_score(clf, X2, y1)\n",
    "    #print('%d        %g' % (i, scores.mean()))\n",
    "    print(X.columns[i],' (%d) --> %g' % (i, scores.mean()))"
   ]
  },
  {
   "cell_type": "markdown",
   "metadata": {},
   "source": [
    "### F. Save Model and run test.csv through pickel file"
   ]
  },
  {
   "cell_type": "code",
   "execution_count": 45,
   "metadata": {},
   "outputs": [
    {
     "data": {
      "text/plain": [
       "{'n_neighbors': 11}"
      ]
     },
     "execution_count": 45,
     "metadata": {},
     "output_type": "execute_result"
    }
   ],
   "source": [
    "X = df_train[['battery_power','blue','clock_speed','dual_sim','fc','four_g','int_memory','m_dep','mobile_wt','n_cores','pc','px_height','px_width','ram','sc_h','sc_w','talk_time','three_g','touch_screen','wifi']]\n",
    "y = df_train['price_range']\n",
    "seed = 7\n",
    "test_size = 0.33\n",
    "X_train, X_test, y_train, y_test = train_test_split(X, y, test_size=test_size, random_state=seed)\n",
    "\n",
    "#create new a knn model\n",
    "knn2 = KNeighborsClassifier()\n",
    "#create a dictionary of all values we want to test for n_neighbors\n",
    "param_grid = {'n_neighbors': np.arange(1, 25)}\n",
    "#use gridsearch to test all values for n_neighbors\n",
    "knn_gscv = GridSearchCV(knn2, param_grid, cv=5)\n",
    "#fit model to data\n",
    "knn_gscv.fit(X, y)\n",
    "\n",
    "#check top performing n_neighbors value\n",
    "knn_gscv.best_params_"
   ]
  },
  {
   "cell_type": "code",
   "execution_count": 46,
   "metadata": {},
   "outputs": [
    {
     "data": {
      "text/plain": [
       "array([[171,   4,   0,   0],\n",
       "       [  7, 149,   3,   0],\n",
       "       [  0,  12, 154,   5],\n",
       "       [  0,   0,  14, 141]])"
      ]
     },
     "execution_count": 46,
     "metadata": {},
     "output_type": "execute_result"
    }
   ],
   "source": [
    "knn = KNeighborsClassifier(n_neighbors=11, algorithm='auto', metric='euclidean')\n",
    "knn.fit(X_train,y_train)\n",
    "\n",
    "y_pred = knn.predict(X_test)\n",
    "\n",
    "confusion_matrix(y_test, y_pred)"
   ]
  },
  {
   "cell_type": "code",
   "execution_count": 47,
   "metadata": {},
   "outputs": [
    {
     "name": "stdout",
     "output_type": "stream",
     "text": [
      "F1_Score:  0.931513371266383\n",
      "Precision:  0.9325106700782114\n",
      "Recall:  0.9311279975145818\n",
      "Accuracy:  0.9318181818181818\n"
     ]
    }
   ],
   "source": [
    "print('F1_Score: ',f1_score(y_test, y_pred, average=\"macro\"))\n",
    "print('Precision: ',precision_score(y_test, y_pred, average=\"macro\"))\n",
    "print('Recall: ',recall_score(y_test, y_pred, average=\"macro\"))\n",
    "print('Accuracy: ',accuracy_score(y_test, y_pred))"
   ]
  },
  {
   "cell_type": "code",
   "execution_count": 48,
   "metadata": {},
   "outputs": [],
   "source": [
    "filename = 'KNN_Model.sav'\n",
    "pickle.dump(knn, open(filename, 'wb'))"
   ]
  },
  {
   "cell_type": "code",
   "execution_count": 56,
   "metadata": {},
   "outputs": [],
   "source": [
    "#load saved model\n",
    "X = df_test[['battery_power','blue','clock_speed','dual_sim','fc','four_g','int_memory','m_dep','mobile_wt','n_cores','pc','px_height','px_width','ram','sc_h','sc_w','talk_time','three_g','touch_screen','wifi']]\n",
    "\n",
    "loaded_mod = joblib.load('KNN_Model.sav')\n",
    "result = loaded_mod.predict(X)\n",
    "result = pd.DataFrame({'Pred_Price_Range':result})\n",
    "mod_output = pd.merge(X,result, how='inner', left_index=True, right_index=True)"
   ]
  },
  {
   "cell_type": "code",
   "execution_count": 57,
   "metadata": {},
   "outputs": [
    {
     "data": {
      "text/html": [
       "<div>\n",
       "<style scoped>\n",
       "    .dataframe tbody tr th:only-of-type {\n",
       "        vertical-align: middle;\n",
       "    }\n",
       "\n",
       "    .dataframe tbody tr th {\n",
       "        vertical-align: top;\n",
       "    }\n",
       "\n",
       "    .dataframe thead th {\n",
       "        text-align: right;\n",
       "    }\n",
       "</style>\n",
       "<table border=\"1\" class=\"dataframe\">\n",
       "  <thead>\n",
       "    <tr style=\"text-align: right;\">\n",
       "      <th></th>\n",
       "      <th>battery_power</th>\n",
       "      <th>blue</th>\n",
       "      <th>clock_speed</th>\n",
       "      <th>dual_sim</th>\n",
       "      <th>fc</th>\n",
       "      <th>four_g</th>\n",
       "      <th>int_memory</th>\n",
       "      <th>m_dep</th>\n",
       "      <th>mobile_wt</th>\n",
       "      <th>n_cores</th>\n",
       "      <th>pc</th>\n",
       "      <th>px_height</th>\n",
       "      <th>px_width</th>\n",
       "      <th>ram</th>\n",
       "      <th>sc_h</th>\n",
       "      <th>sc_w</th>\n",
       "      <th>talk_time</th>\n",
       "      <th>three_g</th>\n",
       "      <th>touch_screen</th>\n",
       "      <th>wifi</th>\n",
       "      <th>Pred_Price_Range</th>\n",
       "    </tr>\n",
       "  </thead>\n",
       "  <tbody>\n",
       "    <tr>\n",
       "      <th>0</th>\n",
       "      <td>1043</td>\n",
       "      <td>1</td>\n",
       "      <td>1.8</td>\n",
       "      <td>1</td>\n",
       "      <td>14</td>\n",
       "      <td>0</td>\n",
       "      <td>5</td>\n",
       "      <td>0.1</td>\n",
       "      <td>193</td>\n",
       "      <td>3</td>\n",
       "      <td>16</td>\n",
       "      <td>226</td>\n",
       "      <td>1412</td>\n",
       "      <td>3476</td>\n",
       "      <td>12</td>\n",
       "      <td>7</td>\n",
       "      <td>2</td>\n",
       "      <td>0</td>\n",
       "      <td>1</td>\n",
       "      <td>0</td>\n",
       "      <td>3</td>\n",
       "    </tr>\n",
       "    <tr>\n",
       "      <th>1</th>\n",
       "      <td>841</td>\n",
       "      <td>1</td>\n",
       "      <td>0.5</td>\n",
       "      <td>1</td>\n",
       "      <td>4</td>\n",
       "      <td>1</td>\n",
       "      <td>61</td>\n",
       "      <td>0.8</td>\n",
       "      <td>191</td>\n",
       "      <td>5</td>\n",
       "      <td>12</td>\n",
       "      <td>746</td>\n",
       "      <td>857</td>\n",
       "      <td>3895</td>\n",
       "      <td>6</td>\n",
       "      <td>0</td>\n",
       "      <td>7</td>\n",
       "      <td>1</td>\n",
       "      <td>0</td>\n",
       "      <td>0</td>\n",
       "      <td>3</td>\n",
       "    </tr>\n",
       "    <tr>\n",
       "      <th>2</th>\n",
       "      <td>1807</td>\n",
       "      <td>1</td>\n",
       "      <td>2.8</td>\n",
       "      <td>0</td>\n",
       "      <td>1</td>\n",
       "      <td>0</td>\n",
       "      <td>27</td>\n",
       "      <td>0.9</td>\n",
       "      <td>186</td>\n",
       "      <td>3</td>\n",
       "      <td>4</td>\n",
       "      <td>1270</td>\n",
       "      <td>1366</td>\n",
       "      <td>2396</td>\n",
       "      <td>17</td>\n",
       "      <td>10</td>\n",
       "      <td>10</td>\n",
       "      <td>0</td>\n",
       "      <td>1</td>\n",
       "      <td>1</td>\n",
       "      <td>2</td>\n",
       "    </tr>\n",
       "    <tr>\n",
       "      <th>3</th>\n",
       "      <td>1546</td>\n",
       "      <td>0</td>\n",
       "      <td>0.5</td>\n",
       "      <td>1</td>\n",
       "      <td>18</td>\n",
       "      <td>1</td>\n",
       "      <td>25</td>\n",
       "      <td>0.5</td>\n",
       "      <td>96</td>\n",
       "      <td>8</td>\n",
       "      <td>20</td>\n",
       "      <td>295</td>\n",
       "      <td>1752</td>\n",
       "      <td>3893</td>\n",
       "      <td>10</td>\n",
       "      <td>0</td>\n",
       "      <td>7</td>\n",
       "      <td>1</td>\n",
       "      <td>1</td>\n",
       "      <td>0</td>\n",
       "      <td>3</td>\n",
       "    </tr>\n",
       "    <tr>\n",
       "      <th>4</th>\n",
       "      <td>1434</td>\n",
       "      <td>0</td>\n",
       "      <td>1.4</td>\n",
       "      <td>0</td>\n",
       "      <td>11</td>\n",
       "      <td>1</td>\n",
       "      <td>49</td>\n",
       "      <td>0.5</td>\n",
       "      <td>108</td>\n",
       "      <td>6</td>\n",
       "      <td>18</td>\n",
       "      <td>749</td>\n",
       "      <td>810</td>\n",
       "      <td>1773</td>\n",
       "      <td>15</td>\n",
       "      <td>8</td>\n",
       "      <td>7</td>\n",
       "      <td>1</td>\n",
       "      <td>0</td>\n",
       "      <td>1</td>\n",
       "      <td>1</td>\n",
       "    </tr>\n",
       "  </tbody>\n",
       "</table>\n",
       "</div>"
      ],
      "text/plain": [
       "   battery_power  blue  clock_speed  dual_sim  fc  four_g  int_memory  m_dep  \\\n",
       "0           1043     1          1.8         1  14       0           5    0.1   \n",
       "1            841     1          0.5         1   4       1          61    0.8   \n",
       "2           1807     1          2.8         0   1       0          27    0.9   \n",
       "3           1546     0          0.5         1  18       1          25    0.5   \n",
       "4           1434     0          1.4         0  11       1          49    0.5   \n",
       "\n",
       "   mobile_wt  n_cores  pc  px_height  px_width   ram  sc_h  sc_w  talk_time  \\\n",
       "0        193        3  16        226      1412  3476    12     7          2   \n",
       "1        191        5  12        746       857  3895     6     0          7   \n",
       "2        186        3   4       1270      1366  2396    17    10         10   \n",
       "3         96        8  20        295      1752  3893    10     0          7   \n",
       "4        108        6  18        749       810  1773    15     8          7   \n",
       "\n",
       "   three_g  touch_screen  wifi  Pred_Price_Range  \n",
       "0        0             1     0                 3  \n",
       "1        1             0     0                 3  \n",
       "2        0             1     1                 2  \n",
       "3        1             1     0                 3  \n",
       "4        1             0     1                 1  "
      ]
     },
     "execution_count": 57,
     "metadata": {},
     "output_type": "execute_result"
    }
   ],
   "source": [
    "mod_output.head()"
   ]
  },
  {
   "cell_type": "code",
   "execution_count": 61,
   "metadata": {},
   "outputs": [
    {
     "data": {
      "text/html": [
       "<div>\n",
       "<style scoped>\n",
       "    .dataframe tbody tr th:only-of-type {\n",
       "        vertical-align: middle;\n",
       "    }\n",
       "\n",
       "    .dataframe tbody tr th {\n",
       "        vertical-align: top;\n",
       "    }\n",
       "\n",
       "    .dataframe thead th {\n",
       "        text-align: right;\n",
       "    }\n",
       "</style>\n",
       "<table border=\"1\" class=\"dataframe\">\n",
       "  <thead>\n",
       "    <tr style=\"text-align: right;\">\n",
       "      <th></th>\n",
       "      <th>battery_power</th>\n",
       "    </tr>\n",
       "    <tr>\n",
       "      <th>Pred_Price_Range</th>\n",
       "      <th></th>\n",
       "    </tr>\n",
       "  </thead>\n",
       "  <tbody>\n",
       "    <tr>\n",
       "      <th>0</th>\n",
       "      <td>258</td>\n",
       "    </tr>\n",
       "    <tr>\n",
       "      <th>1</th>\n",
       "      <td>227</td>\n",
       "    </tr>\n",
       "    <tr>\n",
       "      <th>2</th>\n",
       "      <td>263</td>\n",
       "    </tr>\n",
       "    <tr>\n",
       "      <th>3</th>\n",
       "      <td>252</td>\n",
       "    </tr>\n",
       "  </tbody>\n",
       "</table>\n",
       "</div>"
      ],
      "text/plain": [
       "                  battery_power\n",
       "Pred_Price_Range               \n",
       "0                           258\n",
       "1                           227\n",
       "2                           263\n",
       "3                           252"
      ]
     },
     "execution_count": 61,
     "metadata": {},
     "output_type": "execute_result"
    }
   ],
   "source": [
    "mod_output.groupby(['Pred_Price_Range']).agg({'battery_power':'count'})"
   ]
  },
  {
   "cell_type": "code",
   "execution_count": 63,
   "metadata": {},
   "outputs": [],
   "source": [
    "mod_output.to_csv('test_output.csv')"
   ]
  },
  {
   "cell_type": "code",
   "execution_count": null,
   "metadata": {},
   "outputs": [],
   "source": []
  }
 ],
 "metadata": {
  "kernelspec": {
   "display_name": "Python 3",
   "language": "python",
   "name": "python3"
  },
  "language_info": {
   "codemirror_mode": {
    "name": "ipython",
    "version": 3
   },
   "file_extension": ".py",
   "mimetype": "text/x-python",
   "name": "python",
   "nbconvert_exporter": "python",
   "pygments_lexer": "ipython3",
   "version": "3.6.8"
  }
 },
 "nbformat": 4,
 "nbformat_minor": 2
}
